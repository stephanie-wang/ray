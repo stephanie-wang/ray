{
 "cells": [
  {
   "cell_type": "code",
   "execution_count": 3,
   "metadata": {},
   "outputs": [],
   "source": [
    "from collections import defaultdict\n",
    "import csv\n",
    "import numpy as np\n",
    "\n",
    "POLICIES = [\n",
    "    (\"0\", \"0\"),\n",
    "    (\"0\", \"1\"),\n",
    "    (\"-2\", \"0\"),\n",
    "    (\"-2\", \"1\"),\n",
    "    (\"-1\", \"0\"),\n",
    "    (\"-1\", \"1\"),\n",
    "]\n",
    "LABELS = {\n",
    "    (\"0\", \"0\"): \"GCS, local\",\n",
    "    (\"0\", \"1\"): \"GCS, remote\",\n",
    "    (\"-2\", \"0\"): \"No FT, local\",\n",
    "    (\"-2\", \"1\"): \"No FT, remote\",\n",
    "    (\"-1\", \"0\"): \"Lineage stash, local\",\n",
    "    (\"-1\", \"1\"): \"Lineage stash, remote\",\n",
    "}\n",
    "\n",
    "def get_latencies(directory):\n",
    "    all_latencies = {}\n",
    "    for policy in POLICIES:\n",
    "        all_latencies[policy] = defaultdict(list)\n",
    "    with open('/home/stephanie/ray-fork/results/{}/min_latency.csv'.format(directory), 'r') as f:\n",
    "        reader = csv.DictReader(f)\n",
    "        for row in reader:\n",
    "            key = int(row['num_shards'])\n",
    "            policy = (row['gcs'], row['remote'])\n",
    "            latencies = all_latencies[policy]\n",
    "            latencies[key].append(float(row['min_latency']) * 1000 / 2)\n",
    "    return all_latencies"
   ]
  },
  {
   "cell_type": "code",
   "execution_count": 16,
   "metadata": {},
   "outputs": [
    {
     "data": {
      "image/png": "[encoded data removed]",
      "text/plain": [
       "<matplotlib.figure.Figure at 0x7fbd47701208>"
      ]
     },
     "metadata": {},
     "output_type": "display_data"
    }
   ],
   "source": [
    "import matplotlib.pyplot as plt\n",
    "\n",
    "DIRECTORY = \"latencies3\"\n",
    "WIDTH = 0.8 / len(POLICIES)\n",
    "\n",
    "def plot_line(plt, results, label, index=None):\n",
    "    ticks = np.array(sorted(results.keys()))\n",
    "    means = []\n",
    "    yerr_low = []\n",
    "    yerr_high = []\n",
    "    for tick in ticks:\n",
    "        mean = np.mean(results[tick])\n",
    "        means.append(mean)\n",
    "        yerr_low.append(\n",
    "            mean - np.quantile(results[tick], 0.025)\n",
    "        )\n",
    "        yerr_high.append(\n",
    "            np.quantile(results[tick], 0.975) - mean\n",
    "        )\n",
    "    x = np.arange(len(ticks))\n",
    "    plt.bar(x + index * WIDTH, means, yerr=[yerr_low, yerr_high], width=WIDTH, label=label, capsize=3)\n",
    "    plt.xticks(x + WIDTH * (len(POLICIES) - 1) / 2, ticks)\n",
    "\n",
    "all_latencies = get_latencies(DIRECTORY)\n",
    "for i, policy in enumerate(POLICIES):\n",
    "    plot_line(plt, all_latencies[policy], LABELS[policy], index=i)\n",
    "# plot_line(plt, gcs_latencies, \"GCS\", index=0)\n",
    "# plot_line(plt, lineage_stash_latencies, \"Lineage stash\", index=1)\n",
    "\n",
    "plt.xlabel(\"Number of shards\")\n",
    "plt.ylabel(\"Minimum task latency (ms)\")\n",
    "plt.legend()\n",
    "# plt.show()\n",
    "\n",
    "plt.savefig(\"/home/stephanie/ray-fork/results/{}/min_latency.pdf\".format(DIRECTORY))"
   ]
  },
  {
   "cell_type": "code",
   "execution_count": null,
   "metadata": {},
   "outputs": [],
   "source": []
  }
 ],
 "metadata": {
  "kernelspec": {
   "display_name": "Python 3",
   "language": "python",
   "name": "python3"
  },
  "language_info": {
   "codemirror_mode": {
    "name": "ipython",
    "version": 3
   },
   "file_extension": ".py",
   "mimetype": "text/x-python",
   "name": "python",
   "nbconvert_exporter": "python",
   "pygments_lexer": "ipython3",
   "version": "3.5.2"
  }
 },
 "nbformat": 4,
 "nbformat_minor": 2
}
