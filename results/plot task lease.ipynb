{
 "cells": [
  {
   "cell_type": "code",
   "execution_count": 8,
   "metadata": {},
   "outputs": [],
   "source": [
    "from collections import defaultdict\n",
    "import csv\n",
    "\n",
    "def parse_results(directory, filename):\n",
    "    results = defaultdict(list)\n",
    "    with open(\"/home/stephanie/ray-fork/results/{}/{}\".format(directory, filename), 'r') as f:\n",
    "        reader = csv.DictReader(f)\n",
    "        for row in reader:\n",
    "            lease = float(row['lease'])\n",
    "            num_reconstructions = float(row['num_reconstructions'])\n",
    "            num_submitted = float(row['num_submitted'])\n",
    "            results[lease].append(num_reconstructions / num_submitted)\n",
    "    return results"
   ]
  },
  {
   "cell_type": "code",
   "execution_count": 13,
   "metadata": {},
   "outputs": [],
   "source": [
    "def parse_failure_results(directory, filename):\n",
    "    results = defaultdict(list)\n",
    "    with open(\"/home/stephanie/ray-fork/results/{}/{}\".format(directory, filename), 'r') as f:\n",
    "        reader = csv.DictReader(f)\n",
    "        for row in reader:\n",
    "            lease = float(row['lease'])\n",
    "            results[lease].append(float(row['duration']))\n",
    "    return results"
   ]
  },
  {
   "cell_type": "code",
   "execution_count": 26,
   "metadata": {},
   "outputs": [
    {
     "data": {
      "image/png": "[encoded data removed]",
      "text/plain": [
       "<matplotlib.figure.Figure at 0x7fb015fc3978>"
      ]
     },
     "metadata": {},
     "output_type": "display_data"
    }
   ],
   "source": [
    "import matplotlib.pyplot as plt\n",
    "import numpy as np\n",
    "\n",
    "DIRECTORY = \"results-lease\"\n",
    "results = parse_results(DIRECTORY, \"lease-reconstructions-Fri Aug 31 13:52:19 PDT 2018.csv\")\n",
    "lease_times = sorted(results.keys())\n",
    "means = []\n",
    "yerr_low = []\n",
    "yerr_high = []\n",
    "for tick in lease_times:\n",
    "    mean = np.mean(results[tick])\n",
    "    means.append(mean)\n",
    "    yerr_low.append(\n",
    "        mean - np.quantile(results[tick], 0.025)\n",
    "    )\n",
    "    yerr_high.append(\n",
    "        np.quantile(results[tick], 0.975) - mean\n",
    "    )\n",
    "plt.errorbar(lease_times, means, yerr=[yerr_low, yerr_high], color='b', capsize=4)\n",
    "plt.ylabel(\"Percent Reconstructions\", color='b')\n",
    "\n",
    "ax = plt.twinx()\n",
    "results = parse_failure_results(DIRECTORY, \"lease-failure-Fri Aug 31 13:52:29 PDT 2018.csv\")\n",
    "lease_times = sorted(results.keys())\n",
    "means = []\n",
    "yerr_low = []\n",
    "yerr_high = []\n",
    "for tick in lease_times:\n",
    "    mean = np.mean(results[tick])\n",
    "    means.append(mean)\n",
    "    yerr_low.append(\n",
    "        mean - np.quantile(results[tick], 0.025)\n",
    "    )\n",
    "    yerr_high.append(\n",
    "        np.quantile(results[tick], 0.975) - mean\n",
    "    )\n",
    "ax.errorbar(lease_times, means, yerr=[yerr_low, yerr_high], color='r', capsize=4)\n",
    "ax.set_ylabel('Reconstruction time', color='r')\n",
    "\n",
    "plt.xlabel(\"Task lease period(ms)\")\n",
    "# plt.ylim(0, 100)\n",
    "plt.xlim(0, 2000)\n",
    "\n",
    "# plt.show()\n",
    "plt.savefig(\"/home/stephanie/ray-fork/results/{}/lease-reconstructions.pdf\".format(DIRECTORY))"
   ]
  },
  {
   "cell_type": "code",
   "execution_count": null,
   "metadata": {},
   "outputs": [],
   "source": []
  }
 ],
 "metadata": {
  "kernelspec": {
   "display_name": "Python 3",
   "language": "python",
   "name": "python3"
  },
  "language_info": {
   "codemirror_mode": {
    "name": "ipython",
    "version": 3
   },
   "file_extension": ".py",
   "mimetype": "text/x-python",
   "name": "python",
   "nbconvert_exporter": "python",
   "pygments_lexer": "ipython3",
   "version": "3.5.2"
  }
 },
 "nbformat": 4,
 "nbformat_minor": 2
}
