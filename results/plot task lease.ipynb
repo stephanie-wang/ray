{
 "cells": [
  {
   "cell_type": "code",
   "execution_count": 7,
   "metadata": {},
   "outputs": [],
   "source": [
    "from collections import defaultdict\n",
    "import csv\n",
    "\n",
    "def parse_results(directory):\n",
    "    results = defaultdict(list)\n",
    "    with open(\"/home/stephanie/ray-fork/results/{}/lease-reconstructions.csv\".format(directory), 'r') as f:\n",
    "        reader = csv.DictReader(f)\n",
    "        for row in reader:\n",
    "            lease = float(row['lease'])\n",
    "            num_reconstructions = float(row['num_reconstructions'])\n",
    "            num_submitted = float(row['num_submitted'])\n",
    "            results[lease].append(num_reconstructions / num_submitted * 100)\n",
    "    return results"
   ]
  },
  {
   "cell_type": "code",
   "execution_count": 25,
   "metadata": {},
   "outputs": [
    {
     "data": {
      "image/png": "[encoded data removed]",
      "text/plain": [
       "<matplotlib.figure.Figure at 0x7f86111ff320>"
      ]
     },
     "metadata": {},
     "output_type": "display_data"
    }
   ],
   "source": [
    "import matplotlib.pyplot as plt\n",
    "import numpy as np\n",
    "\n",
    "DIRECTORY = \"results-lease\"\n",
    "results = parse_results(DIRECTORY)\n",
    "lease_times = sorted(results.keys())\n",
    "means = []\n",
    "yerr = []\n",
    "for x in lease_times:\n",
    "    means.append(np.mean(results[x]))\n",
    "    yerr.append(np.std(results[x]) * 2)\n",
    "\n",
    "plt.errorbar(lease_times, means, yerr=yerr)\n",
    "plt.xlabel(\"Task lease period(ms)\")\n",
    "plt.ylabel(\"Percent Reconstructions\")\n",
    "plt.ylim(0, 100)\n",
    "\n",
    "# plt.show()\n",
    "plt.savefig(\"/home/stephanie/ray-fork/results/{}/lease-reconstructions.pdf\".format(DIRECTORY))"
   ]
  },
  {
   "cell_type": "code",
   "execution_count": null,
   "metadata": {},
   "outputs": [],
   "source": []
  }
 ],
 "metadata": {
  "kernelspec": {
   "display_name": "Python 3",
   "language": "python",
   "name": "python3"
  },
  "language_info": {
   "codemirror_mode": {
    "name": "ipython",
    "version": 3
   },
   "file_extension": ".py",
   "mimetype": "text/x-python",
   "name": "python",
   "nbconvert_exporter": "python",
   "pygments_lexer": "ipython3",
   "version": "3.5.2"
  }
 },
 "nbformat": 4,
 "nbformat_minor": 2
}
